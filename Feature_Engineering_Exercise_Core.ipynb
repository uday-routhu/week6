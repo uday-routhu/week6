{
  "nbformat": 4,
  "nbformat_minor": 0,
  "metadata": {
    "colab": {
      "provenance": [],
      "mount_file_id": "1Gg7y3gS6ubm21AQ8D60hJLD87sygt53A",
      "authorship_tag": "ABX9TyPPIbOCAxvzkwSJCAqm4VZk",
      "include_colab_link": true
    },
    "kernelspec": {
      "name": "python3",
      "display_name": "Python 3"
    },
    "language_info": {
      "name": "python"
    }
  },
  "cells": [
    {
      "cell_type": "markdown",
      "metadata": {
        "id": "view-in-github",
        "colab_type": "text"
      },
      "source": [
        "<a href=\"https://colab.research.google.com/github/uday-routhu/week6/blob/master/Feature_Engineering_Exercise_Core.ipynb\" target=\"_parent\"><img src=\"https://colab.research.google.com/assets/colab-badge.svg\" alt=\"Open In Colab\"/></a>"
      ]
    },
    {
      "cell_type": "markdown",
      "source": [
        "# Feature Engineering Exercise (Core)"
      ],
      "metadata": {
        "id": "mpLgDwQd_IBa"
      }
    },
    {
      "cell_type": "markdown",
      "source": [
        "* Author: Udayakumar Routhu"
      ],
      "metadata": {
        "id": "26I3Ax1C_QCJ"
      }
    },
    {
      "cell_type": "code",
      "source": [
        "# Imports\n",
        "import numpy as np\n",
        "import matplotlib.pyplot as plt\n",
        "import pandas as pd\n",
        "from sklearn.preprocessing import LabelEncoder, StandardScaler\n",
        "from sklearn.decomposition import PCA\n",
        "import seaborn as sns"
      ],
      "metadata": {
        "id": "5HJJBYNl_g_z"
      },
      "execution_count": null,
      "outputs": []
    },
    {
      "cell_type": "code",
      "source": [
        "# Mount google drive\n",
        "from google.colab import drive\n",
        "drive.mount('/content/drive')"
      ],
      "metadata": {
        "colab": {
          "base_uri": "https://localhost:8080/"
        },
        "id": "oZW9PTZk_tZ_",
        "outputId": "bf3cdde9-b1dc-4401-c95e-a8bb1fd4524b"
      },
      "execution_count": null,
      "outputs": [
        {
          "output_type": "stream",
          "name": "stdout",
          "text": [
            "Mounted at /content/drive\n"
          ]
        }
      ]
    },
    {
      "cell_type": "markdown",
      "source": [
        "### Import the data the drop the 'casual' and 'registered' columns. These are redundant with your target, 'count'."
      ],
      "metadata": {
        "id": "YKG5CnyUA4ke"
      }
    },
    {
      "cell_type": "code",
      "source": [
        "url = '/content/drive/MyDrive/CodingDojo/03-AdvancedML/Week10/Data/bikeshare_train - bikeshare_train.csv'\n",
        "df = pd.read_csv(url)"
      ],
      "metadata": {
        "id": "1E2rspcA_9Bu"
      },
      "execution_count": null,
      "outputs": []
    },
    {
      "cell_type": "code",
      "source": [
        "df = df.drop(['casual', 'registered'], axis=1)"
      ],
      "metadata": {
        "id": "SSgRYm44Axrb"
      },
      "execution_count": null,
      "outputs": []
    },
    {
      "cell_type": "code",
      "source": [
        "df.info()"
      ],
      "metadata": {
        "colab": {
          "base_uri": "https://localhost:8080/"
        },
        "id": "isXlWk2bA_W3",
        "outputId": "0a504580-9f31-4e78-8da2-7f93cf8636ef"
      },
      "execution_count": null,
      "outputs": [
        {
          "output_type": "stream",
          "name": "stdout",
          "text": [
            "<class 'pandas.core.frame.DataFrame'>\n",
            "RangeIndex: 10886 entries, 0 to 10885\n",
            "Data columns (total 10 columns):\n",
            " #   Column      Non-Null Count  Dtype  \n",
            "---  ------      --------------  -----  \n",
            " 0   datetime    10886 non-null  object \n",
            " 1   season      10886 non-null  int64  \n",
            " 2   holiday     10886 non-null  int64  \n",
            " 3   workingday  10886 non-null  int64  \n",
            " 4   weather     10886 non-null  int64  \n",
            " 5   temp        10886 non-null  float64\n",
            " 6   atemp       10886 non-null  float64\n",
            " 7   humidity    10886 non-null  int64  \n",
            " 8   windspeed   10886 non-null  float64\n",
            " 9   count       10886 non-null  int64  \n",
            "dtypes: float64(3), int64(6), object(1)\n",
            "memory usage: 850.6+ KB\n"
          ]
        }
      ]
    },
    {
      "cell_type": "markdown",
      "source": [
        "### Transform the 'datetime' column into a datetime type and use it to create 3 new columns in the data frame containing the:"
      ],
      "metadata": {
        "id": "BLjMjP8IBLNf"
      }
    },
    {
      "cell_type": "code",
      "source": [
        "df['datetime'] = pd.to_datetime(df['datetime'])"
      ],
      "metadata": {
        "id": "UEmCxqp-B2qN"
      },
      "execution_count": null,
      "outputs": []
    },
    {
      "cell_type": "markdown",
      "source": [
        "1. Name of the Month"
      ],
      "metadata": {
        "id": "ybpA-yxjB_Ci"
      }
    },
    {
      "cell_type": "code",
      "source": [
        "df['month'] = df['datetime'].dt.strftime('%B')"
      ],
      "metadata": {
        "id": "EP3QUFNLCEeu"
      },
      "execution_count": null,
      "outputs": []
    },
    {
      "cell_type": "markdown",
      "source": [
        "2. Name of the Day of the Week"
      ],
      "metadata": {
        "id": "aS5jvIVTCJ2L"
      }
    },
    {
      "cell_type": "code",
      "source": [
        "df['day_of_week'] = df['datetime'].dt.strftime('%A')"
      ],
      "metadata": {
        "id": "wrSTLXpGCO0p"
      },
      "execution_count": null,
      "outputs": []
    },
    {
      "cell_type": "markdown",
      "source": [
        "3. Hour of the Day"
      ],
      "metadata": {
        "id": "UG9XrGeGCRwx"
      }
    },
    {
      "cell_type": "code",
      "source": [
        "df['hour'] = df['datetime'].dt.hour"
      ],
      "metadata": {
        "id": "QLeFGFVbCWMV"
      },
      "execution_count": null,
      "outputs": []
    }
  ]
}